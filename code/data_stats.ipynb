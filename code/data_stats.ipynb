{
 "cells": [
  {
   "cell_type": "code",
   "execution_count": 2,
   "id": "8e381fc0",
   "metadata": {},
   "outputs": [],
   "source": [
    "import json\n",
    "import nltk\n",
    "import pandas as pd\n",
    "from sklearn.decomposition import TruncatedSVD\n",
    "from sklearn.feature_extraction.text import TfidfVectorizer"
   ]
  },
  {
   "cell_type": "code",
   "execution_count": 3,
   "id": "60a943e5",
   "metadata": {},
   "outputs": [],
   "source": [
    "## Check to see if data contains are repeats since I'm not sure\n",
    "## this was taken care of\n",
    "def check_dups(data):\n",
    "    doc_ids = []\n",
    "    for entry in data:\n",
    "        doc_ids.append(entry['doc_id'])\n",
    "    if len(doc_ids) != len(set(doc_ids)):\n",
    "        print('there is a dup!')\n",
    "    else:\n",
    "        print('no dup!')"
   ]
  },
  {
   "cell_type": "code",
   "execution_count": 4,
   "id": "f45c8ac5",
   "metadata": {},
   "outputs": [],
   "source": [
    "# Split the data into the different areas which we want to test on\n",
    "def split_data(data):\n",
    "    vaccine = []\n",
    "    bigfoot = []\n",
    "    flat = []\n",
    "    pizza = []\n",
    "    climate = []\n",
    "    for entry in data:\n",
    "        if entry['seeds'].__contains__('big.foot'):\n",
    "            bigfoot.append(entry)\n",
    "        if entry['seeds'].__contains__('vaccine'):\n",
    "            vaccine.append(entry)\n",
    "        if entry['seeds'].__contains__('flat.earth'):\n",
    "            flat.append(entry)\n",
    "        if entry['seeds'].__contains__('pizzagate'):\n",
    "            pizza.append(entry)\n",
    "        if entry['seeds'].__contains__('climate'):\n",
    "            climate.append(entry)\n",
    "\n",
    "    return bigfoot, vaccine, flat, pizza, climate"
   ]
  },
  {
   "cell_type": "code",
   "execution_count": 5,
   "id": "50bda2a9",
   "metadata": {},
   "outputs": [],
   "source": [
    "# Find out how many elements in the corpus are conspiratorial\n",
    "def polarity_analysis(topic):\n",
    "    tmp_true = 0\n",
    "    tmp_false = 0\n",
    "\n",
    "    for i in range(len(topic)):\n",
    "        if topic[i]['subcorpus'] == 'conspiracy' \\\n",
    "            and topic[i]['conspiracy_representative']:\n",
    "            tmp_true += 1\n",
    "        else:\n",
    "            tmp_false += 1\n",
    "    return tmp_false, tmp_true"
   ]
  },
  {
   "cell_type": "code",
   "execution_count": 6,
   "id": "c168719c",
   "metadata": {},
   "outputs": [],
   "source": [
    "# does what it says on the can\n",
    "def avg_text_length(topic):\n",
    "    total = 0\n",
    "    for i in range(len(topic)):\n",
    "        total += topic[i]['txt_nwords']\n",
    "\n",
    "    return float(total) / len(topic)"
   ]
  },
  {
   "cell_type": "code",
   "execution_count": 7,
   "id": "d65c318c",
   "metadata": {},
   "outputs": [],
   "source": [
    "# does what it says on the can\n",
    "def avg_sent_num(topic):\n",
    "    total = 0\n",
    "    for i in range(len(topic)):\n",
    "        total += topic[i]['txt_nsentences']\n",
    "\n",
    "    return float(total) / len(topic)"
   ]
  },
  {
   "cell_type": "code",
   "execution_count": 8,
   "id": "6ef3f0f3",
   "metadata": {},
   "outputs": [],
   "source": [
    "def avg_share_comment_react(topic):\n",
    "    share = 0\n",
    "    comment = 0\n",
    "    react = 0\n",
    "    for i in range(len(topic)):\n",
    "        share += topic[i]['FB_shares']\n",
    "        comment += topic[i]['FB_comments']\n",
    "        react += topic[i]['FB_reactions']\n",
    "    \n",
    "    return (float(share) / len(topic), \\\n",
    "            float(comment) / len(topic), \\\n",
    "            float(react) / len(topic))"
   ]
  },
  {
   "cell_type": "markdown",
   "id": "f2c29c36",
   "metadata": {},
   "source": [
    "***Total Dataset Analysis***"
   ]
  },
  {
   "cell_type": "code",
   "execution_count": 9,
   "id": "0020bee9",
   "metadata": {},
   "outputs": [],
   "source": [
    "with open('../data/LOCO_partition.json') as f:\n",
    "        data = json.load(f)"
   ]
  },
  {
   "cell_type": "code",
   "execution_count": 10,
   "id": "626c3a7b",
   "metadata": {
    "scrolled": true
   },
   "outputs": [
    {
     "name": "stdout",
     "output_type": "stream",
     "text": [
      "no dup!\n"
     ]
    }
   ],
   "source": [
    "check_dups(data)"
   ]
  },
  {
   "cell_type": "markdown",
   "id": "d06a5731",
   "metadata": {},
   "source": [
    "***Check labels available***"
   ]
  },
  {
   "cell_type": "code",
   "execution_count": 11,
   "id": "17add41e",
   "metadata": {
    "scrolled": true
   },
   "outputs": [
    {
     "name": "stdout",
     "output_type": "stream",
     "text": [
      "doc_id\n",
      "URL\n",
      "website\n",
      "seeds\n",
      "subcorpus\n",
      "title\n",
      "txt\n",
      "txt_nwords\n",
      "txt_nsentences\n",
      "txt_nparagraphs\n",
      "topic_k100\n",
      "topic_k200\n",
      "topic_k300\n",
      "mention_conspiracy\n",
      "conspiracy_representative\n",
      "cosine_similarity\n",
      "FB_shares\n",
      "FB_comments\n",
      "FB_reactions\n"
     ]
    }
   ],
   "source": [
    "for key, _ in data[0].items():\n",
    "    print(key)"
   ]
  },
  {
   "cell_type": "markdown",
   "id": "3382ba06",
   "metadata": {},
   "source": [
    "***Check sample data given***"
   ]
  },
  {
   "cell_type": "code",
   "execution_count": 12,
   "id": "1e5b8e79",
   "metadata": {
    "scrolled": true
   },
   "outputs": [
    {
     "name": "stdout",
     "output_type": "stream",
     "text": [
      "doc_id = C00007 \n",
      "\n",
      "URL = https://awarenessact.com/scientist-shares-important-tips-on-wearing-gloves-are-you-using-them-correctly/ \n",
      "\n",
      "website = awarenessact.com \n",
      "\n",
      "seeds = climate.change; coronavirus \n",
      "\n",
      "subcorpus = conspiracy \n",
      "\n",
      "title = Scientist Shares Important Tips On Wearing Gloves – Are You Using Them Correctly? \n",
      "\n",
      "txt = While a lot of people are trying to do their best to remain clean and germ-free during this pandemic, if you’re using gloves please make sure you’re using them properly. When it comes to wearing PPE (personal protective equipment) if you’re wearing or using them wrong, they won’t be protecting you.\r\n",
      "\r\n",
      "I recently came across a thread of posts on Twitter by Dr. Jacquelyn Gill that really got me thinking about this big time. Dr. Gill for those who might not be aware is an associate professor at the University of Maine’s Climate Change Institute. She began this thread noting that when she goes on her weekly grocery runs she sees just how many people are using gloved improperly.\r\n",
      "\r\n",
      "You see, as a scientist, Dr. Gill is trained well on how to use PPE, this including gloves and if you’re going to listen to anyone on how to use gloves properly, a scientist is one of the best people to hear out. Take a peek below to see some of what Dr. Gill had to say about how she’s seen gloves being used.\r\n",
      "\r\n",
      "This you would assume everyone would be aware of but if you pay attention while out getting the things you need, you’ll likely see tons of people doing things incorrectly. If you really want to keep yourself and those around you safe, you should be going the extra mile to make sure you’re doing things right and if you’re not throwing your gloves away after each use and are touching things you’re not cleaning off before handling again, you’re messing up. Dr. Gill went on to say the things below, and they are some things we should not let slip our minds.\r\n",
      "\r\n",
      "Yes, you have to change your gloves a lot but you should also keep in mind you can get by just fine without them if you’re washing properly and as Dr. Gill mentioned paying attention to the things you’re touching. Reusing gloves is a huge no-no and if you’re going to use them, please look into the things you shouldn’t be doing while wearing them if you want to get the most out of their use. Dr. Gill has seen so many unique instances of people doing things they shouldn’t while wearing their gloves and honestly, it’s kind of mind-blowing. \n",
      "\n",
      "txt_nwords = 403 \n",
      "\n",
      "txt_nsentences = 13 \n",
      "\n",
      "txt_nparagraphs = 5 \n",
      "\n",
      "topic_k100 = k100_59 \n",
      "\n",
      "topic_k200 = k200_58 \n",
      "\n",
      "topic_k300 = k300_47 \n",
      "\n",
      "mention_conspiracy = 0 \n",
      "\n",
      "conspiracy_representative = False \n",
      "\n",
      "cosine_similarity = 0.1401 \n",
      "\n",
      "FB_shares = 26 \n",
      "\n",
      "FB_comments = 4 \n",
      "\n",
      "FB_reactions = 55 \n",
      "\n"
     ]
    }
   ],
   "source": [
    "for key, value in data[0].items():\n",
    "    print(key, '=', value, '\\n')"
   ]
  },
  {
   "cell_type": "code",
   "execution_count": 13,
   "id": "f317188b",
   "metadata": {},
   "outputs": [],
   "source": [
    "bigfoot, vaccine, flat, pizza, climate = split_data(data)"
   ]
  },
  {
   "cell_type": "code",
   "execution_count": 14,
   "id": "47f8bcf5",
   "metadata": {
    "scrolled": false
   },
   "outputs": [
    {
     "name": "stdout",
     "output_type": "stream",
     "text": [
      "{'doc_id': 'C000bf', 'URL': 'https://thedailyconspiracy.com/2018/07/12/targeted-individuals-cant-fight-back/', 'website': 'thedailyconspiracy.com', 'seeds': 'big.foot; jfk.assassination', 'date': '2018-07-12', 'subcorpus': 'conspiracy', 'title': 'Targeted Individuals Can’t Fight Back – The Daily Conspiracy', 'txt': 'Did you know that an estimated ten thousand people are reporting unusual assaults on their minds that they claim break down their personalities and undermine health and well-being? These “targeted individuals” or TIs believe that unseen, powerful forces are monitoring, manipulating, and torturing them.\\r\\n\\r\\nAlmost all TIs report hearing voices that no one else can detect. They say their phones and other electronic devices are delivering unwanted and very disturbing, repetitive messages like “Your mother is coming over to kill you. Go to the kitchen and get a knife. Now.” Wounds that appear on the hands or other body parts are thought to be from illicit microchip implantation. Many report knowing when an assault is occurring because they feel nauseous. Victims often sense that they are being bombarded with microwave energy.\\r\\n\\r\\nCould there be any truth to these seemingly impossible claims? Is there any evidence to support this technical capability or its application in the real world?\\r\\n\\r\\nAs a matter of fact, the answers are yes and yes. The US Central Intelligence Agency (CIA) has been investigating mind control for decades. One such project was named MK Ultra. Although the federal government denied the existence of this illegal and immoral program, there is plenty of evidence on the CIA website to demonstrate just how real it was – and perhaps still is.\\r\\n\\r\\nThe CIA became interested in “brainwashing” in the late 1950s after American prisoners of war came home from Asian countries with their former personalities supplanted by new zombie-like behavior and “broken” thought processes. If foreign despots could get valuable information from their captives by means of mental and physical torture, then, by golly, the American military needed that capability, too.\\r\\n\\r\\nAfter a Swiss scientist accidentally discovered the powerful hallucinogen LSD-25, the CIA tried it on both volunteers and unwilling, unsuspecting Americans and Canadians as part of MK-Ultra. They also physically abused their subjects and deprived them of sleep to see if they could wipe out all traces of a test subject’s personality before reprogramming that mind with their own instructions.\\r\\n\\r\\nMK-Ultra was successful for the CIA. We know the program ran from 1953 until about 1973, and many believe this research has been continuous, resulting in the ability today to target individuals for remote mental assault. (The CIA denied the existence of MK-Ultra until 1975 when the truth came out during a congressional investigation into widespread illegal CIA activities not only in the United States but around the world.)\\r\\n\\r\\nAt the same time, radio frequency identification chips (RFID) were under development. First developed to positively identify high stakes racehorses – to prevent a look-alike switch pre-post time – veterinarians realized the device could be useful for keeping track of family pets. Many people had their cats and dogs chipped in case they ran off or were stolen.\\r\\n\\r\\nIt wasn’t a far stretch from microchipping domesticated animals to children. After all, kids can run off and be stolen, too. This controversial practice raises privacy concerns for many. Despite manufacturers’ claims that these chips are not enabled for global satellite positioning (GPS), we have only their word to take for it.\\r\\n\\r\\nWhat price safety? An interesting article that appeared in The Sun explored the morality of microchipping children. Dino Burbidge, director of Technology and Innovation at advertising agency WCRS was quoted as saying:\\r\\n\\r\\n“The chips are almost identical to the ones used to identify pets. The kits exist to inject them, so yes, in terms of ‘do we have the capability,’ we absolutely do. However, do we have the need or the moral rights to implant chips into children, that’s completely different. And I’d suggest the answer is a big, fat, solid no.”\\r\\n\\r\\nTargeted individuals (TIs) believe they are the victims of weaponized technologies developed by the CIA. One investigator published in Wired named Liza – not her real name – said she worked for Microsoft for 10 years before starting her own web development company. It wasn’t long after that before she began to experience electronic attacks, stalking, and surveillance. Because of her professional background, Liza knew that existing technology was fully capable of inflicting the tortures plaguing her.\\r\\n\\r\\nBut appeals for help only landed Liza in bigger trouble:\\r\\n\\r\\n“When she sought help, a hospital committed her to a 10-day hold in the mental ward, teaching her how to calm her racing heart without addressing the technology that Liza believed was causing it.”\\r\\n\\r\\nTo fully comprehend how deeply rooted CIA mind control is in our society, consider this little piece of propaganda from a site that calls itself “RationalWiki” (as if other Wiki websites are not rational?). We looked up “targeted individuals” and found this superb example of government denial/ridicule/distraction. This website has the look and feel of a CIA operation. Let’s examine the first sentence:\\r\\n\\r\\n“‘Targeted Individual’ (TI) is an umbrella term coined by troubled unfortunates and paranoid cranks who insist that they are all, individually, on the receiving end of a massive covert harassment conspiracy of highly malignant intent.”\\r\\n\\r\\nWe know the author of this “research” has already judged TIs as mentally unbalanced due to the terms “troubled unfortunates” and “paranoid cranks.” This salacious rhetoric is completely intentional and carefully crafted to set up the author’s foregone conclusion, that the whole matter of targeting individuals is bunk.\\r\\n\\r\\nHere’s another section from the same article:\\r\\n\\r\\n“The vast majority of TIs consider themselves to be victims of inchoate, ongoing and relentless ‘touchless torture’ plots. The nature of these alleged ‘attacks’ varies among TIs but generally involves some combination of asinine drama with pseudoscientific flummery and/or improbable, coordinated malicious actions.”\\r\\n\\r\\nAgain, the words “asinine drama” and “pseudoscientific flummery” were chosen specifically to deny/ridicule/distract from the real issue, which is allegations that some agency or entity is literally driving people who fall out of step with their employers or the government to insanity.\\r\\n\\r\\nFinally, “Rational” Wiki provides a list of assault methods reported by TIs:\\r\\n\\r\\n“This all includes remote neural monitoring, microwaves, ‘psychotronics’ (basically a variety of hypothetical electronic weaponry), secret mind control, actively enforced ‘gangstalking,’ ‘remote sexual abuse,’ surgical insertion of alien implants and even reptilian involvement.”\\r\\n\\r\\nNote that the list of real documented CIA techniques is followed by a couple of UFO/ET references. The decades-long mainstream propaganda program to cover up the existence of the alien presence on Earth is also well-documented. This smear campaign has the majority of people convinced that anyone who believes in alien implant technology is mentally unbalanced – crazy.\\r\\n\\r\\nWe know from previous experience that, when the CIA spends oodles of money and resources covering something up, it turns out to be true.\\r\\n\\r\\nTherefore, it stands to reason that the thousands of people who claim to be targeted by an assassination program are neither lying nor insane: they are telling the truth.\\r\\n\\r\\nIf you still have doubts about the reality – or even the possibility – of targeting individuals, watch this YouTube video titled “Meet the Targeted Individual Community” and then form an opinion.\\r\\n\\r\\nThe TI phenomenon is upsetting on so many levels and violates so many human rights that we can expect to hear much more about this unsavory government weapon as more victims come forward with their very real experiences.', 'txt_nwords': 1248, 'txt_nsentences': 63, 'txt_nparagraphs': 27, 'topic_k100': 'k100_10', 'topic_k200': 'k200_150', 'topic_k300': 'k300_5', 'mention_conspiracy': 1, 'conspiracy_representative': True, 'cosine_similarity': 0.186, 'FB_shares': 15, 'FB_comments': 1, 'FB_reactions': 3}\n"
     ]
    }
   ],
   "source": [
    "for entry in bigfoot:\n",
    "    if entry['doc_id'] == 'C000bf':\n",
    "        print(entry)"
   ]
  },
  {
   "cell_type": "code",
   "execution_count": 39,
   "id": "97c1ee75",
   "metadata": {},
   "outputs": [
    {
     "name": "stdout",
     "output_type": "stream",
     "text": [
      "2727 7104 2251 1371 3055\n"
     ]
    }
   ],
   "source": [
    "print(len(bigfoot),len(vaccine),len(flat),len(pizza),len(climate))"
   ]
  },
  {
   "cell_type": "code",
   "execution_count": 41,
   "id": "9139a40e",
   "metadata": {},
   "outputs": [
    {
     "name": "stdout",
     "output_type": "stream",
     "text": [
      "no dup!\n",
      "no dup!\n",
      "no dup!\n",
      "no dup!\n",
      "no dup!\n"
     ]
    }
   ],
   "source": [
    "check_dups(bigfoot)\n",
    "check_dups(vaccine)\n",
    "check_dups(flat)\n",
    "check_dups(pizza)\n",
    "check_dups(climate)"
   ]
  },
  {
   "cell_type": "markdown",
   "id": "731134db",
   "metadata": {},
   "source": [
    "***Bigfoot Analysis***"
   ]
  },
  {
   "cell_type": "code",
   "execution_count": 70,
   "id": "448ee31f",
   "metadata": {
    "scrolled": true
   },
   "outputs": [
    {
     "name": "stdout",
     "output_type": "stream",
     "text": [
      "(2586, 141)\n",
      "971.6501650165017\n",
      "48.893656032269895\n",
      "(300.66336633663366, 260.4198753208654, 987.4965163182985)\n"
     ]
    }
   ],
   "source": [
    "print(polarity_analysis(bigfoot))\n",
    "print(avg_text_length(bigfoot))\n",
    "print(avg_sent_num(bigfoot))\n",
    "print(avg_share_comment_react(bigfoot))"
   ]
  },
  {
   "cell_type": "markdown",
   "id": "727402a7",
   "metadata": {},
   "source": [
    "***Vaccine Analysis***"
   ]
  },
  {
   "cell_type": "code",
   "execution_count": 10,
   "id": "e70457d4",
   "metadata": {},
   "outputs": [
    {
     "name": "stdout",
     "output_type": "stream",
     "text": [
      "(6826, 278)\n",
      "879.3942849099099\n",
      "41.36176801801802\n"
     ]
    }
   ],
   "source": [
    "print(polarity_analysis(vaccine))\n",
    "print(avg_text_length(vaccine))\n",
    "print(avg_sent_num(vaccine))"
   ]
  },
  {
   "cell_type": "markdown",
   "id": "c2abe993",
   "metadata": {},
   "source": [
    "***Flat Earth Analysis***"
   ]
  },
  {
   "cell_type": "code",
   "execution_count": 11,
   "id": "0bb5e032",
   "metadata": {},
   "outputs": [
    {
     "name": "stdout",
     "output_type": "stream",
     "text": [
      "(2122, 129)\n",
      "945.6934695690804\n",
      "47.486894713460686\n"
     ]
    }
   ],
   "source": [
    "print(polarity_analysis(flat))\n",
    "print(avg_text_length(flat))\n",
    "print(avg_sent_num(flat))"
   ]
  },
  {
   "cell_type": "markdown",
   "id": "8df4d7a0",
   "metadata": {},
   "source": [
    "***Pizzagate Analysis***"
   ]
  },
  {
   "cell_type": "code",
   "execution_count": 12,
   "id": "2eb640c2",
   "metadata": {},
   "outputs": [
    {
     "name": "stdout",
     "output_type": "stream",
     "text": [
      "(1298, 73)\n",
      "1025.6688548504742\n",
      "49.797228300510575\n"
     ]
    }
   ],
   "source": [
    "print(polarity_analysis(pizza))\n",
    "print(avg_text_length(pizza))\n",
    "print(avg_sent_num(pizza))"
   ]
  },
  {
   "cell_type": "markdown",
   "id": "58017dd7",
   "metadata": {},
   "source": [
    "***Climate Analysis***"
   ]
  },
  {
   "cell_type": "code",
   "execution_count": 13,
   "id": "6d5ae23b",
   "metadata": {
    "scrolled": true
   },
   "outputs": [
    {
     "name": "stdout",
     "output_type": "stream",
     "text": [
      "(2955, 100)\n",
      "899.2124386252045\n",
      "40.50605564648118\n"
     ]
    }
   ],
   "source": [
    "print(polarity_analysis(climate))\n",
    "print(avg_text_length(climate))\n",
    "print(avg_sent_num(climate))"
   ]
  },
  {
   "cell_type": "code",
   "execution_count": 14,
   "id": "10e1d83e",
   "metadata": {},
   "outputs": [],
   "source": [
    "vocab = []\n",
    "for i in range(len(climate)):\n",
    "    vocab.append(climate[i]['txt'])"
   ]
  },
  {
   "cell_type": "code",
   "execution_count": 15,
   "id": "d0ac2f58",
   "metadata": {},
   "outputs": [
    {
     "name": "stdout",
     "output_type": "stream",
     "text": [
      "            TF-IDF\n",
      "gloves    0.436004\n",
      "gill      0.392139\n",
      "you       0.386571\n",
      "re        0.205685\n",
      "things    0.202407\n",
      "dr        0.199021\n",
      "wearing   0.169770\n",
      "to        0.141854\n",
      "ppe       0.127311\n",
      "properly  0.118707\n",
      "if        0.117936\n",
      "touching  0.110451\n",
      "thread    0.105282\n",
      "doing     0.094899\n",
      "using     0.089076\n",
      "use       0.086781\n",
      "of        0.083498\n",
      "she       0.082366\n",
      "them      0.080203\n",
      "shouldn   0.077382\n",
      "and       0.075222\n",
      "aware     0.069162\n",
      "people    0.067272\n",
      "the       0.066668\n",
      "gloved    0.066053\n"
     ]
    },
    {
     "name": "stderr",
     "output_type": "stream",
     "text": [
      "/home/biocros/marn/lib/python3.9/site-packages/sklearn/utils/deprecation.py:87: FutureWarning: Function get_feature_names is deprecated; get_feature_names is deprecated in 1.0 and will be removed in 1.2. Please use get_feature_names_out instead.\n",
      "  warnings.warn(msg, category=FutureWarning)\n"
     ]
    }
   ],
   "source": [
    "tfIdfVectorizer=TfidfVectorizer(use_idf=True)\n",
    "tfIdf = tfIdfVectorizer.fit_transform(vocab)\n",
    "df = pd.DataFrame(tfIdf[0].T.todense(), index=tfIdfVectorizer.get_feature_names(), columns=[\"TF-IDF\"])\n",
    "df = df.sort_values('TF-IDF', ascending=False)\n",
    "print(df.head(25))"
   ]
  },
  {
   "cell_type": "code",
   "execution_count": 16,
   "id": "1704506b",
   "metadata": {},
   "outputs": [],
   "source": [
    "lsa = TruncatedSVD(algorithm='arpack').fit(tfIdf)"
   ]
  },
  {
   "cell_type": "code",
   "execution_count": 19,
   "id": "f9640c3b",
   "metadata": {},
   "outputs": [
    {
     "ename": "NameError",
     "evalue": "name 'lsa_topics' is not defined",
     "output_type": "error",
     "traceback": [
      "\u001b[0;31m---------------------------------------------------------------------------\u001b[0m",
      "\u001b[0;31mNameError\u001b[0m                                 Traceback (most recent call last)",
      "Cell \u001b[0;32mIn [19], line 1\u001b[0m\n\u001b[0;32m----> 1\u001b[0m \u001b[38;5;28mprint\u001b[39m(get_model_topics(lsa, tfIdf, \u001b[43mlsa_topics\u001b[49m))\n",
      "\u001b[0;31mNameError\u001b[0m: name 'lsa_topics' is not defined"
     ]
    }
   ],
   "source": [
    "print(get_model_topics(lsa, tfIdf, lsa_topics))"
   ]
  },
  {
   "cell_type": "code",
   "execution_count": 18,
   "id": "2bc11544",
   "metadata": {},
   "outputs": [],
   "source": [
    "def get_model_topics(model, vectorizer, topics, n_top_words=20):\n",
    "    word_dict = {}\n",
    "    feature_names = vectorizer.get_feature_names()\n",
    "    for topic_idx, topic in enumerate(model.components_):\n",
    "        top_features_ind = topic.argsort()[:-n_top_words - 1:-1]\n",
    "        top_features = [feature_names[i] for i in top_features_ind]\n",
    "        word_dict[topics[topic_idx]] = top_features\n",
    "\n",
    "    return pd.DataFrame(word_dict)"
   ]
  },
  {
   "cell_type": "code",
   "execution_count": null,
   "id": "1bf6520f",
   "metadata": {},
   "outputs": [],
   "source": []
  }
 ],
 "metadata": {
  "kernelspec": {
   "display_name": "Python 3 (ipykernel)",
   "language": "python",
   "name": "python3"
  },
  "language_info": {
   "codemirror_mode": {
    "name": "ipython",
    "version": 3
   },
   "file_extension": ".py",
   "mimetype": "text/x-python",
   "name": "python",
   "nbconvert_exporter": "python",
   "pygments_lexer": "ipython3",
   "version": "3.9.2"
  },
  "vscode": {
   "interpreter": {
    "hash": "31f2aee4e71d21fbe5cf8b01ff0e069b9275f58929596ceb00d14d90e3e16cd6"
   }
  }
 },
 "nbformat": 4,
 "nbformat_minor": 5
}
