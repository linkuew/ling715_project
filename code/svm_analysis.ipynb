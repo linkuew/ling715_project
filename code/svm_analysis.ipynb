{
 "cells": [
  {
   "cell_type": "markdown",
   "id": "6f34fb99",
   "metadata": {},
   "source": [
    "***Import libraries***"
   ]
  },
  {
   "cell_type": "code",
   "execution_count": 1,
   "id": "c277a34f",
   "metadata": {},
   "outputs": [],
   "source": [
    "import json\n",
    "import random\n",
    "from nltk import pos_tag, word_tokenize\n",
    "from collections import defaultdict\n",
    "from sklearn.feature_extraction.text import CountVectorizer\n",
    "from sklearn import model_selection, svm\n",
    "from sklearn.metrics import accuracy_score"
   ]
  },
  {
   "cell_type": "code",
   "execution_count": 2,
   "id": "5c5a4fa3",
   "metadata": {},
   "outputs": [],
   "source": [
    "random.seed(42)"
   ]
  },
  {
   "cell_type": "markdown",
   "id": "c90537d6",
   "metadata": {},
   "source": [
    "***Helper functions for us***"
   ]
  },
  {
   "cell_type": "code",
   "execution_count": 3,
   "id": "6474b586",
   "metadata": {},
   "outputs": [],
   "source": [
    "##\n",
    "# Split the data into the different areas which we want to test on\n",
    "#\n",
    "# input: entire corpus\n",
    "#\n",
    "# returns: subcorpora\n",
    "##\n",
    "def split_data(data):\n",
    "    vaccine = []\n",
    "    bigfoot = []\n",
    "    flat = []\n",
    "    pizza = []\n",
    "    climate = []\n",
    "    for entry in data:\n",
    "        if entry['seeds'].__contains__('big.foot'):\n",
    "            bigfoot.append(entry)\n",
    "        if entry['seeds'].__contains__('vaccine'):\n",
    "            vaccine.append(entry)\n",
    "        if entry['seeds'].__contains__('flat.earth'):\n",
    "            flat.append(entry)\n",
    "        if entry['seeds'].__contains__('pizzagate'):\n",
    "            pizza.append(entry)\n",
    "        if entry['seeds'].__contains__('climate'):\n",
    "            climate.append(entry)\n",
    "\n",
    "    return bigfoot, vaccine, flat, pizza, climate"
   ]
  },
  {
   "cell_type": "code",
   "execution_count": 4,
   "id": "5bee6882",
   "metadata": {},
   "outputs": [],
   "source": [
    "##\n",
    "# A helper function for the conspiracy select, this returns the text entry from the corpus\n",
    "#\n",
    "# input: a corpus\n",
    "#\n",
    "# output: a breakdown of the input corpus into text (X) and label (Y) - note that 1 marks conspiracy and 0 marks non-conspiracy\n",
    "##\n",
    "def x_y_split(data):\n",
    "    X = []\n",
    "    Y = []\n",
    "    \n",
    "    for entry in data:\n",
    "        if entry['subcorpus'] == 'conspiracy' \\\n",
    "            and entry['conspiracy_representative']:\n",
    "            X.append(entry['txt'])\n",
    "            Y.append(1)\n",
    "        else:\n",
    "            X.append(entry['txt'])\n",
    "            Y.append(0)\n",
    "    \n",
    "    return X, Y"
   ]
  },
  {
   "cell_type": "code",
   "execution_count": 5,
   "id": "497908c6",
   "metadata": {},
   "outputs": [],
   "source": [
    "##\n",
    "# How we preprocess our data/create our feature sets will probably have most impact, this is a place for that to happen\n",
    "#\n",
    "# input: corpus text\n",
    "#\n",
    "# returns: modified corpus text\n",
    "##\n",
    "def preprocess(data):\n",
    "    update = []\n",
    "    for entry in data:\n",
    "        update.append(entry.lower())\n",
    "    \n",
    "    return update"
   ]
  },
  {
   "cell_type": "code",
   "execution_count": 6,
   "id": "8b61f057",
   "metadata": {},
   "outputs": [],
   "source": [
    "## \n",
    "# Returns a combination of the input conspiracy corpora, and shuffles the input as well.\n",
    "#\n",
    "# input: sequence of tuples (corpus, percent), (corpus, percent),...\n",
    "#\n",
    "# returns: X and Y, such that X and Y are the percentages of the corpora given in the input \n",
    "#\n",
    "# note: this does *not* ensure balance between the conspiracy/non-conspiracy elements\n",
    "# within the partition\n",
    "##\n",
    "def conspiracy_select(*args):\n",
    "    newX = []\n",
    "    newY = []\n",
    "    \n",
    "    for arg in args:\n",
    "        # get text from a corpus\n",
    "        tmpX, tmpY = x_y_split(arg[0])\n",
    "\n",
    "        # randomize the order of the texts and labels\n",
    "        tmpX, tmpY = randomize(tmpX, tmpY)\n",
    "\n",
    "        # partition the texts and labels according to the percentage\n",
    "        tmplen = int(arg[1] * len(tmpX))\n",
    "        tmpX = tmpX[:tmplen]\n",
    "        tmpY = tmpY[:tmplen]\n",
    "\n",
    "        # update our combined texts and labels\n",
    "        newX += tmpX\n",
    "        newY += tmpY\n",
    "\n",
    "    return newX, newY"
   ]
  },
  {
   "cell_type": "code",
   "execution_count": 7,
   "id": "336ec103",
   "metadata": {},
   "outputs": [],
   "source": [
    "##\n",
    "# Randomizes X and Y pairwise data\n",
    "#\n",
    "# input: X and Y lists\n",
    "#\n",
    "# returns: X and Y lists pairwise shuffled\n",
    "#\n",
    "##\n",
    "def randomize(X, Y):\n",
    "    tmp = list(zip(X, Y))\n",
    "    random.shuffle(tmp)\n",
    "    tmpX, tmpY = zip(*tmp)\n",
    "    return list(tmpX), list(tmpY)"
   ]
  },
  {
   "cell_type": "code",
   "execution_count": 8,
   "id": "b1fad7d5",
   "metadata": {},
   "outputs": [],
   "source": [
    "##\n",
    "# Returns xtrain, xtest, ytrain, and ytest by letting one CT be the xtrain and ytrain, and the other CT be the xtest\n",
    "# and ytest\n",
    "#\n",
    "# input: two conspiracy theories where CT1 -> training, CT2 -> testing\n",
    "#\n",
    "# returns xtrain, xtest, ytrain, and ytest\n",
    "##\n",
    "def custom_test_train_split(CT1, CT2):\n",
    "    xtrain, ytrain = x_y_split(CT1)\n",
    "    xtest, ytest = x_y_split(CT2)\n",
    "    \n",
    "    # uncomment this if we want to randomize the pairwise order of texts and labels\n",
    "    # xtrain, ytrain = randomize(xtrain, ytrain)\n",
    "    # xtest, ytest = randomize(xtest, ytest)\n",
    "    \n",
    "    return xtrain, xtest, ytrain, ytest"
   ]
  },
  {
   "cell_type": "code",
   "execution_count": 9,
   "id": "77547a65",
   "metadata": {},
   "outputs": [],
   "source": [
    "##\n",
    "# Transforms a set of documents into POS tags\n",
    "#\n",
    "# input: an list of text documents\n",
    "#\n",
    "# returns: a list in the same order of documents transformed into POS tags\n",
    "##\n",
    "def pos_tags(X):\n",
    "    newX = []\n",
    "    for entry in X:\n",
    "        tmp = []\n",
    "        for _, tag in pos_tag(word_tokenize(entry)):\n",
    "            tmp.append(tag)\n",
    "        newX.append(tmp)\n",
    "\n",
    "    return newX"
   ]
  },
  {
   "cell_type": "markdown",
   "id": "d427b7f7",
   "metadata": {},
   "source": [
    "***Create subcorpora from corpus***"
   ]
  },
  {
   "cell_type": "code",
   "execution_count": 10,
   "id": "df26073b",
   "metadata": {},
   "outputs": [],
   "source": [
    "with open('../data/LOCO_partition.json') as f:\n",
    "        data = json.load(f)"
   ]
  },
  {
   "cell_type": "code",
   "execution_count": 11,
   "id": "c10fec9d",
   "metadata": {},
   "outputs": [],
   "source": [
    "bigfoot, vaccine, flat, pizza, climate = split_data(data)"
   ]
  },
  {
   "cell_type": "markdown",
   "id": "b0ad8e79",
   "metadata": {},
   "source": [
    "***Set up input to the SVM***"
   ]
  },
  {
   "cell_type": "code",
   "execution_count": 12,
   "id": "f61e9a80",
   "metadata": {},
   "outputs": [],
   "source": [
    "# bigX, bigY = x_y_split(bigfoot)\n",
    "# cliX, cliY = x_y_split(climate)\n",
    "# X, Y = conspiracy_select((bigfoot, 1), (vaccine, 1), (flat, 1), (pizza, 1), (climate, 1))\n",
    "xtrain, xtest, ytrain, ytest = custom_test_train_split(bigfoot, vaccine)"
   ]
  },
  {
   "cell_type": "code",
   "execution_count": null,
   "id": "f37f5ee5",
   "metadata": {},
   "outputs": [],
   "source": [
    "# bigX = preprocess(bigX)\n",
    "# cliX = preprocess(cliX)\n",
    "xtrain = pos_tags(xtrain)\n",
    "xtest = pos_tags(xtest)\n",
    "# X = preprocess(X)"
   ]
  },
  {
   "cell_type": "code",
   "execution_count": 64,
   "id": "e59bcb11",
   "metadata": {},
   "outputs": [],
   "source": [
    "# xtrain, xtest, ytrain, ytest = model_selection.train_test_split(X, Y, test_size = 0.3)"
   ]
  },
  {
   "cell_type": "code",
   "execution_count": 65,
   "id": "5f3a55dc",
   "metadata": {},
   "outputs": [],
   "source": [
    "ctvec = CountVectorizer(analyzer = 'word', tokenizer = word_tokenize, max_features = 5000)\n",
    "vecxtrain = ctvec.fit_transform(xtrain)"
   ]
  },
  {
   "cell_type": "code",
   "execution_count": 66,
   "id": "32ab7cc1",
   "metadata": {},
   "outputs": [],
   "source": [
    "SVM = svm.SVC(C=1.0, kernel='linear', degree=3, gamma='auto')"
   ]
  },
  {
   "cell_type": "code",
   "execution_count": 67,
   "id": "26a827c9",
   "metadata": {
    "scrolled": true
   },
   "outputs": [
    {
     "data": {
      "text/html": [
       "<style>#sk-container-id-2 {color: black;background-color: white;}#sk-container-id-2 pre{padding: 0;}#sk-container-id-2 div.sk-toggleable {background-color: white;}#sk-container-id-2 label.sk-toggleable__label {cursor: pointer;display: block;width: 100%;margin-bottom: 0;padding: 0.3em;box-sizing: border-box;text-align: center;}#sk-container-id-2 label.sk-toggleable__label-arrow:before {content: \"▸\";float: left;margin-right: 0.25em;color: #696969;}#sk-container-id-2 label.sk-toggleable__label-arrow:hover:before {color: black;}#sk-container-id-2 div.sk-estimator:hover label.sk-toggleable__label-arrow:before {color: black;}#sk-container-id-2 div.sk-toggleable__content {max-height: 0;max-width: 0;overflow: hidden;text-align: left;background-color: #f0f8ff;}#sk-container-id-2 div.sk-toggleable__content pre {margin: 0.2em;color: black;border-radius: 0.25em;background-color: #f0f8ff;}#sk-container-id-2 input.sk-toggleable__control:checked~div.sk-toggleable__content {max-height: 200px;max-width: 100%;overflow: auto;}#sk-container-id-2 input.sk-toggleable__control:checked~label.sk-toggleable__label-arrow:before {content: \"▾\";}#sk-container-id-2 div.sk-estimator input.sk-toggleable__control:checked~label.sk-toggleable__label {background-color: #d4ebff;}#sk-container-id-2 div.sk-label input.sk-toggleable__control:checked~label.sk-toggleable__label {background-color: #d4ebff;}#sk-container-id-2 input.sk-hidden--visually {border: 0;clip: rect(1px 1px 1px 1px);clip: rect(1px, 1px, 1px, 1px);height: 1px;margin: -1px;overflow: hidden;padding: 0;position: absolute;width: 1px;}#sk-container-id-2 div.sk-estimator {font-family: monospace;background-color: #f0f8ff;border: 1px dotted black;border-radius: 0.25em;box-sizing: border-box;margin-bottom: 0.5em;}#sk-container-id-2 div.sk-estimator:hover {background-color: #d4ebff;}#sk-container-id-2 div.sk-parallel-item::after {content: \"\";width: 100%;border-bottom: 1px solid gray;flex-grow: 1;}#sk-container-id-2 div.sk-label:hover label.sk-toggleable__label {background-color: #d4ebff;}#sk-container-id-2 div.sk-serial::before {content: \"\";position: absolute;border-left: 1px solid gray;box-sizing: border-box;top: 0;bottom: 0;left: 50%;z-index: 0;}#sk-container-id-2 div.sk-serial {display: flex;flex-direction: column;align-items: center;background-color: white;padding-right: 0.2em;padding-left: 0.2em;position: relative;}#sk-container-id-2 div.sk-item {position: relative;z-index: 1;}#sk-container-id-2 div.sk-parallel {display: flex;align-items: stretch;justify-content: center;background-color: white;position: relative;}#sk-container-id-2 div.sk-item::before, #sk-container-id-2 div.sk-parallel-item::before {content: \"\";position: absolute;border-left: 1px solid gray;box-sizing: border-box;top: 0;bottom: 0;left: 50%;z-index: -1;}#sk-container-id-2 div.sk-parallel-item {display: flex;flex-direction: column;z-index: 1;position: relative;background-color: white;}#sk-container-id-2 div.sk-parallel-item:first-child::after {align-self: flex-end;width: 50%;}#sk-container-id-2 div.sk-parallel-item:last-child::after {align-self: flex-start;width: 50%;}#sk-container-id-2 div.sk-parallel-item:only-child::after {width: 0;}#sk-container-id-2 div.sk-dashed-wrapped {border: 1px dashed gray;margin: 0 0.4em 0.5em 0.4em;box-sizing: border-box;padding-bottom: 0.4em;background-color: white;}#sk-container-id-2 div.sk-label label {font-family: monospace;font-weight: bold;display: inline-block;line-height: 1.2em;}#sk-container-id-2 div.sk-label-container {text-align: center;}#sk-container-id-2 div.sk-container {/* jupyter's `normalize.less` sets `[hidden] { display: none; }` but bootstrap.min.css set `[hidden] { display: none !important; }` so we also need the `!important` here to be able to override the default hidden behavior on the sphinx rendered scikit-learn.org. See: https://github.com/scikit-learn/scikit-learn/issues/21755 */display: inline-block !important;position: relative;}#sk-container-id-2 div.sk-text-repr-fallback {display: none;}</style><div id=\"sk-container-id-2\" class=\"sk-top-container\"><div class=\"sk-text-repr-fallback\"><pre>SVC(gamma=&#x27;auto&#x27;, kernel=&#x27;linear&#x27;)</pre><b>In a Jupyter environment, please rerun this cell to show the HTML representation or trust the notebook. <br />On GitHub, the HTML representation is unable to render, please try loading this page with nbviewer.org.</b></div><div class=\"sk-container\" hidden><div class=\"sk-item\"><div class=\"sk-estimator sk-toggleable\"><input class=\"sk-toggleable__control sk-hidden--visually\" id=\"sk-estimator-id-2\" type=\"checkbox\" checked><label for=\"sk-estimator-id-2\" class=\"sk-toggleable__label sk-toggleable__label-arrow\">SVC</label><div class=\"sk-toggleable__content\"><pre>SVC(gamma=&#x27;auto&#x27;, kernel=&#x27;linear&#x27;)</pre></div></div></div></div></div>"
      ],
      "text/plain": [
       "SVC(gamma='auto', kernel='linear')"
      ]
     },
     "execution_count": 67,
     "metadata": {},
     "output_type": "execute_result"
    }
   ],
   "source": [
    "SVM.fit(vecxtrain, ytrain)"
   ]
  },
  {
   "cell_type": "code",
   "execution_count": 68,
   "id": "70736106",
   "metadata": {},
   "outputs": [],
   "source": [
    "vecxtest = ctvec.transform(xtest)"
   ]
  },
  {
   "cell_type": "code",
   "execution_count": 69,
   "id": "3c858fe5",
   "metadata": {},
   "outputs": [],
   "source": [
    "SVMpred = SVM.predict(vecxtest)"
   ]
  },
  {
   "cell_type": "code",
   "execution_count": 72,
   "id": "8187297d",
   "metadata": {},
   "outputs": [
    {
     "name": "stdout",
     "output_type": "stream",
     "text": [
      "SVM Accuracy ->  97.13305067635777\n"
     ]
    }
   ],
   "source": [
    "print(\"SVM Accuracy -> \", accuracy_score(SVMpred, ytest) * 100)"
   ]
  }
 ],
 "metadata": {
  "kernelspec": {
   "display_name": "Python 3 (ipykernel)",
   "language": "python",
   "name": "python3"
  },
  "language_info": {
   "codemirror_mode": {
    "name": "ipython",
    "version": 3
   },
   "file_extension": ".py",
   "mimetype": "text/x-python",
   "name": "python",
   "nbconvert_exporter": "python",
   "pygments_lexer": "ipython3",
   "version": "3.9.2"
  }
 },
 "nbformat": 4,
 "nbformat_minor": 5
}
