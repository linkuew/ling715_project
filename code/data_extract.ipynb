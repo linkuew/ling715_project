{
 "cells": [
  {
   "cell_type": "code",
   "execution_count": 1,
   "id": "4985704e",
   "metadata": {},
   "outputs": [],
   "source": [
    "import json"
   ]
  },
  {
   "cell_type": "code",
   "execution_count": 2,
   "id": "8a5f264a",
   "metadata": {},
   "outputs": [],
   "source": [
    "f = open('../data/LOCO.json')\n",
    "data = json.load(f)"
   ]
  },
  {
   "cell_type": "code",
   "execution_count": 3,
   "id": "8983d7be",
   "metadata": {},
   "outputs": [],
   "source": [
    "new_data = []"
   ]
  },
  {
   "cell_type": "code",
   "execution_count": 4,
   "id": "2268f513",
   "metadata": {
    "scrolled": false
   },
   "outputs": [],
   "source": [
    "for i in range(len(data)):\n",
    "    if data[i]['seeds'].__contains__('big.foot') \\\n",
    "        or data[i]['seeds'].__contains__('flat.earth') \\\n",
    "        or data[i]['seeds'].__contains__('climate') \\\n",
    "        or data[i]['seeds'].__contains__('vaccine') \\\n",
    "        or data[i]['seeds'].__contains__('pizzagate'):\n",
    "        new_data.append(data[i])"
   ]
  },
  {
   "cell_type": "code",
   "execution_count": 6,
   "id": "5c80eb60",
   "metadata": {
    "scrolled": true
   },
   "outputs": [
    {
     "name": "stdout",
     "output_type": "stream",
     "text": [
      "<class 'list'>\n",
      "<class 'dict'>\n"
     ]
    }
   ],
   "source": [
    "print(type(new_data))\n",
    "print(type(new_data[0]))"
   ]
  },
  {
   "cell_type": "code",
   "execution_count": 8,
   "id": "892e509d",
   "metadata": {},
   "outputs": [],
   "source": [
    "with open('../data/LOCO_partition.json', 'w') as of:\n",
    "    for i in range(len(new_data)):\n",
    "        tmp_json = json.dumps(new_data[i], indent = 4)\n",
    "        of.write(tmp_json)"
   ]
  }
 ],
 "metadata": {
  "kernelspec": {
   "display_name": "Python 3 (ipykernel)",
   "language": "python",
   "name": "python3"
  },
  "language_info": {
   "codemirror_mode": {
    "name": "ipython",
    "version": 3
   },
   "file_extension": ".py",
   "mimetype": "text/x-python",
   "name": "python",
   "nbconvert_exporter": "python",
   "pygments_lexer": "ipython3",
   "version": "3.9.2"
  }
 },
 "nbformat": 4,
 "nbformat_minor": 5
}
