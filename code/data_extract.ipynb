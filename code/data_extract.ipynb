{
 "cells": [
  {
   "cell_type": "code",
   "execution_count": 1,
   "id": "4985704e",
   "metadata": {},
   "outputs": [],
   "source": [
    "import json"
   ]
  },
  {
   "cell_type": "code",
   "execution_count": 2,
   "id": "8a5f264a",
   "metadata": {},
   "outputs": [],
   "source": [
    "f = open('../data/LOCO.json')\n",
    "data = json.load(f)"
   ]
  },
  {
   "cell_type": "code",
   "execution_count": 3,
   "id": "8983d7be",
   "metadata": {},
   "outputs": [],
   "source": [
    "new_data = []"
   ]
  },
  {
   "cell_type": "code",
   "execution_count": 4,
   "id": "2268f513",
   "metadata": {
    "scrolled": false
   },
   "outputs": [],
   "source": [
    "for i in range(len(data)):\n",
    "    if data[i]['seeds'].__contains__('big.foot') \\\n",
    "        or data[i]['seeds'].__contains__('flat.earth') \\\n",
    "        or data[i]['seeds'].__contains__('climate') \\\n",
    "        or data[i]['seeds'].__contains__('vaccine') \\\n",
    "        or data[i]['seeds'].__contains__('pizzagate'):\n",
    "        new_data.append(data[i])"
   ]
  },
  {
   "cell_type": "code",
   "execution_count": 5,
   "id": "5c80eb60",
   "metadata": {
    "scrolled": false
   },
   "outputs": [
    {
     "name": "stdout",
     "output_type": "stream",
     "text": [
      "<class 'list'>\n",
      "<class 'dict'>\n",
      "<class 'list'>\n",
      "<class 'dict'>\n"
     ]
    }
   ],
   "source": [
    "print(type(data))\n",
    "print(type(data[0]))\n",
    "print(type(new_data))\n",
    "print(type(new_data[0]))"
   ]
  },
  {
   "cell_type": "code",
   "execution_count": 8,
   "id": "892e509d",
   "metadata": {},
   "outputs": [],
   "source": [
    "with open('../data/LOCO_partition.json', 'w') as of:\n",
    "    of.write('[')\n",
    "    for i in range(len(new_data)):\n",
    "        tmp_json = json.dumps(new_data[i], indent = 4)\n",
    "        if i == (len(new_data) - 1):\n",
    "            of.write(tmp_json)\n",
    "        else:\n",
    "            of.write(tmp_json + \",\\n\")\n",
    "    of.write(']')"
   ]
  },
  {
   "cell_type": "code",
   "execution_count": null,
   "id": "a0238d7d",
   "metadata": {},
   "outputs": [],
   "source": []
  }
 ],
 "metadata": {
  "kernelspec": {
   "display_name": "Python 3 (ipykernel)",
   "language": "python",
   "name": "python3"
  },
  "language_info": {
   "codemirror_mode": {
    "name": "ipython",
    "version": 3
   },
   "file_extension": ".py",
   "mimetype": "text/x-python",
   "name": "python",
   "nbconvert_exporter": "python",
   "pygments_lexer": "ipython3",
   "version": "3.9.2"
  }
 },
 "nbformat": 4,
 "nbformat_minor": 5
}
